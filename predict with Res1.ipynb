{
 "cells": [
  {
   "cell_type": "markdown",
   "id": "6d0cd2ba",
   "metadata": {
    "toc": true
   },
   "source": [
    "<h1>Table of Contents<span class=\"tocSkip\"></span></h1>\n",
    "<div class=\"toc\"><ul class=\"toc-item\"></ul></div>"
   ]
  },
  {
   "cell_type": "code",
   "execution_count": null,
   "id": "409e6172",
   "metadata": {
    "ExecuteTime": {
     "end_time": "2022-08-09T07:33:32.230437Z",
     "start_time": "2022-08-09T07:32:32.865713Z"
    }
   },
   "outputs": [],
   "source": [
    "import os\n",
    "import pandas as pd\n",
    "import tensorflow as tf\n",
    "import numpy as np\n",
    "import mltle as mlt\n",
    "import shutil\n",
    "\n",
    "\n",
    "CHUNK_SIZE = 50000\n",
    "MAX_BATCH_SIZE = 1024\n",
    "\n",
    "order = ['pKd', 'pKi', 'pIC50', 'is_active', 'qed']\n",
    "model = tf.keras.models.load_model('ResCNN1_pKd_pKi_pIC50.hdf5')\n",
    "\n",
    "path_data_predict = '0_drugbank_uniprot_4637815.csv'  # ~ 1923767\n",
    "path_result_save = '0_drugbank_uniprot_4637815_predict.csv'\n",
    "\n",
    "with open(path_result_save, 'w', encoding='utf-8') as f:\n",
    "    f.write(f\" ind, pKd , pKi, pIC50, isActive\")"
   ]
  },
  {
   "cell_type": "code",
   "execution_count": null,
   "id": "9f3e0d52",
   "metadata": {
    "ExecuteTime": {
     "end_time": "2022-08-09T07:35:42.723169Z",
     "start_time": "2022-08-09T07:35:09.262027Z"
    }
   },
   "outputs": [],
   "source": [
    "%%time\n",
    "\n",
    "DATA_CHUNKS = pd.read_csv(path_data_predict, chunksize=CHUNK_SIZE, usecols=['Drug', 'Target'])\n",
    "\n",
    "for data in DATA_CHUNKS:\n",
    "    for col in order:\n",
    "        data[col] = np.nan\n",
    "\n",
    "    mapseq = mlt.datamap.MapSeq(drug_mode='smiles_1',\n",
    "                                protein_mode='protein_3',\n",
    "                                max_drug_len=200,\n",
    "                                max_protein_len=1000)\n",
    "\n",
    "    drug_seqs = data.Drug.unique()\n",
    "    protein_seqs = data.Target.unique()\n",
    "\n",
    "    map_drug, map_protein = mapseq.create_maps(drug_seqs=drug_seqs, protein_seqs=protein_seqs)\n",
    "    test_batch_size = mlt.training_utils.get_batch_size(data.shape[0], max_batch_size = MAX_BATCH_SIZE)\n",
    "    test_gen = mlt.datagen.DataGen(data,\n",
    "                                   map_drug,\n",
    "                                   map_protein,\n",
    "                                   shuffle=False,\n",
    "                                   test_only=True)\n",
    "\n",
    "    test_gen = test_gen.get_generator(test_batch_size)\n",
    "    prediction = model.predict(test_gen, steps=data.shape[0] // test_batch_size, verbose=0)\n",
    "    for k, col in enumerate(order[:-1]):\n",
    "        data[col] = prediction[k]\n",
    "\n",
    "    data.drop(['Drug', 'Target', 'qed'], axis=1).to_csv(path_result_save, mode='a', header=False)\n",
    "        \n",
    "        \n",
    "\n",
    "\n",
    "shutil.make_archive(path_result_save.replace('.csv', ''), 'zip', './', path_result_save)\n",
    "if os.path.exists(path_result_save):\n",
    "    os.remove(path_result_save)"
   ]
  },
  {
   "cell_type": "code",
   "execution_count": null,
   "id": "ad1507d3",
   "metadata": {
    "ExecuteTime": {
     "end_time": "2022-08-09T06:00:57.331544Z",
     "start_time": "2022-08-09T06:00:53.165006Z"
    }
   },
   "outputs": [],
   "source": [
    "data.is_active.hist()"
   ]
  },
  {
   "cell_type": "code",
   "execution_count": null,
   "id": "5beee184",
   "metadata": {
    "ExecuteTime": {
     "end_time": "2022-08-09T06:00:57.489559Z",
     "start_time": "2022-08-09T06:00:57.336552Z"
    }
   },
   "outputs": [],
   "source": [
    "data.tail()"
   ]
  },
  {
   "cell_type": "code",
   "execution_count": null,
   "id": "e56523c4",
   "metadata": {
    "ExecuteTime": {
     "end_time": "2022-08-09T06:00:57.568545Z",
     "start_time": "2022-08-09T06:00:57.496554Z"
    }
   },
   "outputs": [],
   "source": [
    "data.corr()"
   ]
  },
  {
   "cell_type": "code",
   "execution_count": null,
   "id": "5bd7587d",
   "metadata": {},
   "outputs": [],
   "source": []
  }
 ],
 "metadata": {
  "kernelspec": {
   "display_name": "Python 3",
   "language": "python",
   "name": "python3"
  },
  "language_info": {
   "codemirror_mode": {
    "name": "ipython",
    "version": 3
   },
   "file_extension": ".py",
   "mimetype": "text/x-python",
   "name": "python",
   "nbconvert_exporter": "python",
   "pygments_lexer": "ipython3",
   "version": "3.8.8"
  },
  "latex_envs": {
   "LaTeX_envs_menu_present": true,
   "autoclose": false,
   "autocomplete": true,
   "bibliofile": "biblio.bib",
   "cite_by": "apalike",
   "current_citInitial": 1,
   "eqLabelWithNumbers": true,
   "eqNumInitial": 1,
   "hotkeys": {
    "equation": "Ctrl-E",
    "itemize": "Ctrl-I"
   },
   "labels_anchors": false,
   "latex_user_defs": false,
   "report_style_numbering": false,
   "user_envs_cfg": false
  },
  "nbTranslate": {
   "displayLangs": [
    "*"
   ],
   "hotkey": "alt-t",
   "langInMainMenu": true,
   "sourceLang": "en",
   "targetLang": "fr",
   "useGoogleTranslate": true
  },
  "toc": {
   "base_numbering": 1,
   "nav_menu": {},
   "number_sections": true,
   "sideBar": true,
   "skip_h1_title": false,
   "title_cell": "Table of Contents",
   "title_sidebar": "Contents",
   "toc_cell": true,
   "toc_position": {},
   "toc_section_display": true,
   "toc_window_display": false
  }
 },
 "nbformat": 4,
 "nbformat_minor": 5
}
